{
 "cells": [
  {
   "cell_type": "code",
   "execution_count": 1,
   "metadata": {},
   "outputs": [],
   "source": [
    "%load_ext autoreload\n",
    "%autoreload 2\n",
    "\n",
    "import numpy as np\n",
    "import scipy as sp\n",
    "from scipy import stats\n",
    "import matplotlib.pyplot as plt\n",
    "import os\n",
    "import time\n",
    "from tqdm.notebook import tqdm_notebook\n",
    "import copy\n",
    "import pickle\n",
    "\n",
    "from pomcp import POMCP\n",
    "import pomcp_run_functions as prf\n",
    "import parameters as pars\n",
    "import environment as env\n",
    "import visualization as vis"
   ]
  },
  {
   "cell_type": "code",
   "execution_count": 3,
   "metadata": {},
   "outputs": [],
   "source": [
    "msrmnt_err = 50\n",
    "P = pars.PARS(msrmnt_err)"
   ]
  },
  {
   "cell_type": "code",
   "execution_count": 16,
   "metadata": {},
   "outputs": [],
   "source": [
    "msrmnt_err = 50\n",
    "P = pars.PARS(msrmnt_err)\n",
    "\n",
    "pomcp_params = {'floor_quantile': 0.1,\n",
    "                'ceil_quantile': 0.8,\n",
    "                'n_obs_buckets': 10,\n",
    "                'n_pomcp_runs': 100,\n",
    "                'n_rollout_runs': 3500}\n",
    "\n",
    "# initialize A with random observation\n",
    "A = POMCP(P, initial_observation=-140, **pomcp_params)"
   ]
  },
  {
   "cell_type": "code",
   "execution_count": null,
   "metadata": {},
   "outputs": [],
   "source": [
    "A = POMCP(P, initial_observation=-140, **pomcp_params)\n",
    "A.Search(time=1)"
   ]
  },
  {
   "cell_type": "code",
   "execution_count": 84,
   "metadata": {},
   "outputs": [],
   "source": [
    "a,b,c,d = prf.get_bounds_by_quantiles(0.001, 0.9, 0.001, 0.999, P)\n",
    "db, kb, d, k = prf.get_belief_buckets(100,100, a,b,c,d)\n",
    "D_outer, K_outer, D_mid, K_mid = prf.get_belief_grids(db, kb, d, k)"
   ]
  },
  {
   "cell_type": "code",
   "execution_count": null,
   "metadata": {},
   "outputs": [],
   "source": [
    "a = time.time()\n",
    "Z = prf.belief_trier(D_mid, K_mid, A, P, t=20, parallel=True)\n",
    "print(time.time()-a)"
   ]
  },
  {
   "cell_type": "code",
   "execution_count": 87,
   "metadata": {},
   "outputs": [
    {
     "data": {
      "image/png": "[encoded data removed]",
      "text/plain": [
       "<Figure size 432x432 with 1 Axes>"
      ]
     },
     "metadata": {
      "needs_background": "light"
     },
     "output_type": "display_data"
    }
   ],
   "source": [
    "colormap = 'custom'\n",
    "vis.belief_grid_visualization(D_outer, K_outer, Z, colormap, plot_cbar=True, save=False)"
   ]
  },
  {
   "cell_type": "code",
   "execution_count": 52,
   "metadata": {},
   "outputs": [],
   "source": [
    "with open('./belief_Z_sigma_50_t_1.pkl', 'rb') as f:\n",
    "    Y = pickle.load(f)"
   ]
  },
  {
   "cell_type": "code",
   "execution_count": 4,
   "metadata": {},
   "outputs": [],
   "source": [
    "msrmnt_err = 0.5\n",
    "P = pars.PARS(msrmnt_err)"
   ]
  },
  {
   "cell_type": "code",
   "execution_count": null,
   "metadata": {
    "scrolled": true
   },
   "outputs": [],
   "source": [
    "n = 100\n",
    "\n",
    "test = 'rollout_runs'\n",
    "\n",
    "if test == 'rollout_runs':\n",
    "    pomcp_run_vec = [10, 100, 1000]\n",
    "    rollout_run_vec = [1, 3, 10, 30, 100, 300, 1000, 3000, 10000, 30000]\n",
    "    mrt_list = list()\n",
    "    crt_list = list()\n",
    "    mtt_list = list()\n",
    "    ctt_list = list()\n",
    "    for p in pomcp_run_vec:\n",
    "        mrt, crt, mtt, ctt = prf.rollout_timer(rollout_run_vec=rollout_run_vec, n=n, P=P, pomcp_runs=p, plot=False)\n",
    "        mrt_list.append(mrt)\n",
    "        crt_list.append(crt)\n",
    "        mtt_list.append(mtt)\n",
    "        ctt_list.append(ctt)\n",
    "\n",
    "        \n",
    "elif test == 'pomcp_runs':\n",
    "    pomcp_run_vec = [1, 3, 10, 30, 100, 300, 1000, 3000, 10000]\n",
    "    rollout_run_vec = [10, 100, 1000]\n",
    "    mt_list = list()\n",
    "    ct_list = list()\n",
    "    for r in rollout_run_vec:\n",
    "        mt, ct = prf.pomcp_timer(pomcp_run_vec=pomcp_run_vec, n=n, P=P, rollout_runs=r, plot=False)\n",
    "        mt_list.append(mt)\n",
    "        ct_list.append(ct)    \n",
    "    \n",
    "else:\n",
    "    raise RuntimeError(\"Choose either 'rollout_runs' or 'pomcp_runs'\")\n",
    "\n"
   ]
  }
 ],
 "metadata": {
  "kernelspec": {
   "display_name": "Python 3",
   "language": "python",
   "name": "python3"
  },
  "language_info": {
   "codemirror_mode": {
    "name": "ipython",
    "version": 3
   },
   "file_extension": ".py",
   "mimetype": "text/x-python",
   "name": "python",
   "nbconvert_exporter": "python",
   "pygments_lexer": "ipython3",
   "version": "3.7.5"
  }
 },
 "nbformat": 4,
 "nbformat_minor": 2
}
